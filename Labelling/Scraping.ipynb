{
 "cells": [
  {
   "cell_type": "code",
   "execution_count": null,
   "metadata": {},
   "outputs": [],
   "source": [
    "import requests as req\n",
    "from bs4 import BeautifulSoup as bs\n",
    "from datetime import datetime\n",
    "import csv\n",
    "\n",
    "hades = {'user-argent', 'Mozilla/5.0 (Windows NT 10.0; Win64; x64 AppleWebKit/537.36 (KHTML, like Gecko) chrome/106.0.0.0 Safari/537.36'}"
   ]
  },
  {
   "cell_type": "code",
   "execution_count": null,
   "metadata": {},
   "outputs": [],
   "source": [
    "def scrape_detik(hal):\n",
    "    global hades\n",
    "    a = 1\n",
    "    for page in range(1,hal):\n",
    "        url = f'https://www.detik.com/search/searchall?query=rohingya+di+aceh&sortby=time&page={page}'\n",
    "        ge = req.get(url,hades).text\n",
    "        sop = bs(ge, 'lxml')\n",
    "        li = sop.find('div',class_='list media_rows list_berita')\n",
    "        lin = li.find_all('articel')\n",
    "        for x in lin:\n",
    "            link = x.find('a')['href']\n",
    "            date = x.find('a').find('span',class_='date').text.replace('WIB','').replace('detikNews','').split(',')[1]\n",
    "            headline = x.find('a').find('h2').text\n",
    "            ge_ = req.get(link,hades).text\n",
    "            sop_= bs(ge_,'lxml')\n",
    "            content = sop_.find_all('div',class_='detail__body-text itp_bodycontent')\n",
    "            for x in content:\n",
    "                x = x.find_all('p')\n",
    "                y = [y.text for y in x ]\n",
    "                content_ = ''.join(y).replace('\\n', '').replace('ADVERTISEMENT','').replace('SCROLL TO RESUME CONTENT','')\n",
    "                print(f'done[{a}] >{headline[0:10]}')\n",
    "                a += 1\n",
    "                with open('Berita.csv', 'a')as file:\n",
    "                    wr = csv.writer(file, delimeter=',')\n",
    "                    wr.writerow([headline,date,link,content_])"
   ]
  },
  {
   "cell_type": "code",
   "execution_count": 5,
   "metadata": {},
   "outputs": [],
   "source": [
    "import requests\n",
    "import datetime as dt\n",
    "from bs4 import BeautifulSoup\n"
   ]
  },
  {
   "cell_type": "code",
   "execution_count": 15,
   "metadata": {},
   "outputs": [],
   "source": [
    "date = dt.datetime.today\n",
    "\n",
    "url = 'https://www.detik.com/search/searchall?query=rohingya+di+aceh&sortby=time&page'\n",
    "#print (url)\n",
    "page = requests.get(url)\n",
    "#print (page)\n",
    "soup = BeautifulSoup(page.text, 'html.parser')\n",
    "#print(soup)\n",
    "articles = soup.find_all('div',class_= 'list media_row list-berita')\n",
    "#print(articles)\n",
    "for article in articles:\n",
    "    title = article.find('div',class_= 'list media_row list-berita').text.strip()\n",
    "    print(title)"
   ]
  },
  {
   "cell_type": "code",
   "execution_count": null,
   "metadata": {},
   "outputs": [],
   "source": [
    "import requests\n",
    "from bs4 import BeautifulSoup\n",
    "\n",
    "url = 'https://www.detik.com/search/searchall?query=rohingya+di+aceh&sortby=time&page=1'\n",
    "#print(url)\n",
    "# Mengambil halaman\n",
    "page = requests.get(url)\n",
    "page.raise_for_status()  # Memastikan bahwa permintaan berhasil\n",
    "#print(page)\n",
    "# Mengurai HTML\n",
    "soup = BeautifulSoup(page.text, 'html.parser')\n",
    "#print(soup)\n",
    "# Mencari semua artikel\n",
    "articles = soup.find_all('div', class_='list media_rows list-berita')\n",
    "#print(articles)\n",
    "# Memproses dan menampilkan artikel\n",
    "for article in articles:\n",
    "    title = article.find('h2').text if article.find('h2') else 'No title'\n",
    "    link = article.find('a')['href'] if article.find('a') else 'No link'\n",
    "    #print(f'Title: {title}')\n",
    "    #print(f'Link: {link}\\n')\n",
    "\n",
    "\n"
   ]
  }
 ],
 "metadata": {
  "kernelspec": {
   "display_name": "Python 3",
   "language": "python",
   "name": "python3"
  },
  "language_info": {
   "codemirror_mode": {
    "name": "ipython",
    "version": 3
   },
   "file_extension": ".py",
   "mimetype": "text/x-python",
   "name": "python",
   "nbconvert_exporter": "python",
   "pygments_lexer": "ipython3",
   "version": "3.10.7"
  }
 },
 "nbformat": 4,
 "nbformat_minor": 2
}
